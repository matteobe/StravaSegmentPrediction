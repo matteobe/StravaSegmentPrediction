{
 "cells": [
  {
   "cell_type": "markdown",
   "metadata": {},
   "source": [
    "# Strava Segments Time Prediction"
   ]
  },
  {
   "cell_type": "markdown",
   "metadata": {},
   "source": [
    "This Jupyter Notebook imports a segments from Strava and calculates the time required for finishing the segment according to the user's input. Furthermore the program also calculates the Training Stress Score® (TSS), Normalized Power® (NP) and Intensity Factor® (IF) for the envisioned ride.\n",
    "\n",
    "The required input consists of:\n",
    "- Rider data\n",
    " - Weight\n",
    " - Position (flat/ascent/descent)\n",
    " - Power (flat/ascent/descent)\n",
    " - Functional Threshold Power (FTP)\n",
    " - Sweat rate (L/(h TSS))\n",
    "- Bike data\n",
    " - Weight\n",
    " - Rolling resistance\n",
    " - Drivetrain loss\n",
    "- Further equipment\n",
    " - Clothes / helmet and shoes weight\n",
    " - Nutrition and hydration weight\n",
    "\n",
    "Normalized Power® (NP), Intensity Factor® (IF), and Training Stress Score® (TSS) are registered trademarks of Peaksware, LLC."
   ]
  },
  {
   "cell_type": "code",
   "execution_count": 1,
   "metadata": {},
   "outputs": [],
   "source": [
    "# Start by importing the required libraries\n",
    "\n",
    "# API requests libraries\n",
    "import json\n",
    "import requests"
   ]
  },
  {
   "cell_type": "code",
   "execution_count": null,
   "metadata": {},
   "outputs": [],
   "source": [
    "# Download information on the Strava segment in question\n"
   ]
  }
 ],
 "metadata": {
  "kernelspec": {
   "display_name": "Python 3",
   "language": "python",
   "name": "python3"
  },
  "language_info": {
   "codemirror_mode": {
    "name": "ipython",
    "version": 3
   },
   "file_extension": ".py",
   "mimetype": "text/x-python",
   "name": "python",
   "nbconvert_exporter": "python",
   "pygments_lexer": "ipython3",
   "version": "3.7.6"
  }
 },
 "nbformat": 4,
 "nbformat_minor": 4
}
